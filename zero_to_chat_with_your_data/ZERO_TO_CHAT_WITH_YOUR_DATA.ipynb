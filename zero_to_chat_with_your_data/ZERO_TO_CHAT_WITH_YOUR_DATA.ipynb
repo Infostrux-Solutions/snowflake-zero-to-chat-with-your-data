{
 "cells": [
  {
   "metadata": {},
   "cell_type": "markdown",
   "source": [
    "CREATE OR REPLACE TABLE company_metadata (\n",
    "    cybersyn_company_id string,\n",
    "    company_name string,\n",
    "    permid_security_id string,\n",
    "    primary_ticker string,\n",
    "    security_name string,\n",
    "    asset_class string,\n",
    "    primary_exchange_code string,\n",
    "    primary_exchange_name string,\n",
    "    security_status string,\n",
    "    global_tickers variant,\n",
    "    exchange_code variant,\n",
    "    permid_quote_id variant\n",
    ");"
   ],
   "id": "cd562ab481cfbc18"
  }
 ],
 "metadata": {
  "kernelspec": {
   "display_name": "Python 3",
   "language": "python",
   "name": "python3"
  },
  "language_info": {
   "codemirror_mode": {
    "name": "ipython",
    "version": 2
   },
   "file_extension": ".py",
   "mimetype": "text/x-python",
   "name": "python",
   "nbconvert_exporter": "python",
   "pygments_lexer": "ipython2",
   "version": "2.7.6"
  }
 },
 "nbformat": 4,
 "nbformat_minor": 5
}
